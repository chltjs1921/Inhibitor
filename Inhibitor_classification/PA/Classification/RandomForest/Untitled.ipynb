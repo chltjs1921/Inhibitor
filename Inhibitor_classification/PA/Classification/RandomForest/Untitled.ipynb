{
 "cells": [
  {
   "cell_type": "code",
   "execution_count": 3,
   "id": "thrown-california",
   "metadata": {},
   "outputs": [
    {
     "data": {
      "text/plain": [
       "array([166,  71, 136, 165,  74, 177, 159, 160, 174, 167,  66,  84, 177,\n",
       "       129,  62,  79,  64, 153, 150, 120,  67, 153,  63,  60,  79,  97,\n",
       "       123,  99, 180,  93, 123, 149, 161,  79,  96, 156,  92, 116,  84,\n",
       "        84])"
      ]
     },
     "execution_count": 3,
     "metadata": {},
     "output_type": "execute_result"
    }
   ],
   "source": [
    "import numpy as np\n",
    "\n",
    "np.random.randint(57, 187, 40)"
   ]
  },
  {
   "cell_type": "code",
   "execution_count": null,
   "id": "periodic-karma",
   "metadata": {},
   "outputs": [],
   "source": []
  }
 ],
 "metadata": {
  "kernelspec": {
   "display_name": "Python 3",
   "language": "python",
   "name": "python3"
  },
  "language_info": {
   "codemirror_mode": {
    "name": "ipython",
    "version": 3
   },
   "file_extension": ".py",
   "mimetype": "text/x-python",
   "name": "python",
   "nbconvert_exporter": "python",
   "pygments_lexer": "ipython3",
   "version": "3.8.5"
  }
 },
 "nbformat": 4,
 "nbformat_minor": 5
}
