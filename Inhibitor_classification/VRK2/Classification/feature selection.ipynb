{
 "cells": [
  {
   "cell_type": "code",
   "execution_count": 4,
   "metadata": {},
   "outputs": [
    {
     "name": "stdout",
     "output_type": "stream",
     "text": [
      "1.3.3\n"
     ]
    }
   ],
   "source": [
    "import xgboost as xgb\n",
    "from xgboost import XGBClassifier\n",
    "print(xgb.__version__)"
   ]
  },
  {
   "cell_type": "code",
   "execution_count": 22,
   "metadata": {},
   "outputs": [
    {
     "name": "stdout",
     "output_type": "stream",
     "text": [
      "[67.93  0.99  7.57 ...   nan   nan   nan]\n"
     ]
    },
    {
     "name": "stderr",
     "output_type": "stream",
     "text": [
      "C:\\Users\\eunwoo\\.conda\\envs\\Tensorflow\\lib\\site-packages\\sklearn\\feature_selection\\_univariate_selection.py:114: UserWarning: Features [  41  363 1223 1507 1510 2355 2374 2680 2685 2690 2694 2705 2722 2752\n",
      " 2757 2761 2783 2806 2828 2849 2860 2885 2895 2903 2919 2921 2923 2928\n",
      " 2929 2930 2931 2932 2937 2941 2946 2951 2956 2957 2961 2962 2967 2970\n",
      " 2972 2973 2976 2983 2990 2998 3000 3007 3009 3018 3019 3020 3021 3027\n",
      " 3036 3046 3047 3051 3057 3060 3062 3066 3073 3080 3088 3090 3097 3099\n",
      " 3108 3110 3170 3171 3185 3186 3187 3188 3195 3196 3198 3202 3214 3215\n",
      " 3216 3217 3218 3219 3221 3235 3236 3237 3238 3248 3250 3251 3252 3256\n",
      " 3260 3261 3262 3277 3278 3279 3280 3282 3283 3284 3296 3297 3298 3299\n",
      " 3300 3302 3310 3311 3312 3313 3314 3315 3316 3332 3334 3335 3336] are constant.\n",
      "  warnings.warn(\"Features %s are constant.\" % constant_features_idx,\n",
      "C:\\Users\\eunwoo\\.conda\\envs\\Tensorflow\\lib\\site-packages\\sklearn\\feature_selection\\_univariate_selection.py:116: RuntimeWarning: invalid value encountered in true_divide\n",
      "  f = msb / msw\n"
     ]
    }
   ],
   "source": [
    "import pandas as pd\n",
    "\n",
    "from numpy import set_printoptions\n",
    "from sklearn.feature_selection import SelectKBest, RFE, chi2\n",
    "from sklearn.feature_selection import f_classif\n",
    "from sklearn.preprocessing import MinMaxScaler, StandardScaler\n",
    "\n",
    "#데이터 입력\n",
    "df = pd.read_csv('./VRK2_inhibitor_descriptor_Internal_dataset_dropunmane.csv')\n",
    "df1 = pd.read_csv('./VRK2_inhibitor_descriptor_external_dataset_dropunmane.csv')\n",
    "\n",
    "#데이터 분류\n",
    "dataset = df.values\n",
    "X = dataset[:,0:-1]\n",
    "Y = dataset[:,-1]\n",
    "\n",
    "#X 표준화\n",
    "\n",
    "scaler = StandardScaler()\n",
    "\n",
    "scaler.fit(X)\n",
    "X_scaled = scaler.transform(X)\n",
    "\n",
    "# feature extraction\n",
    "test = SelectKBest(score_func=f_classif, k=10)\n",
    "fit = test.fit(X, Y)\n",
    "\n",
    "# summarize scores\n",
    "set_printoptions(precision=2)\n",
    "print(fit.scores_)\n",
    "a=pd.Series(fit.scores_)\n",
    "a.to_csv('./VRK2_inhibitor_descriptor_Internal_dataset_dropunmane_featureselection.csv')\n",
    "#features = fit.transform(X)\n",
    "# summarize selected features\n",
    "#print(features[0:5,:])\n",
    "\n",
    "# define feature selection\n",
    "#fs = SelectKBest(score_func=f_classif, k=10)\n",
    "#print(fs)\n",
    "# apply feature selection\n",
    "#X_selected = fs.fit_transform(X_scaled, Y)\n",
    "#print(X_selected)"
   ]
  },
  {
   "cell_type": "code",
   "execution_count": 4,
   "metadata": {},
   "outputs": [
    {
     "name": "stdout",
     "output_type": "stream",
     "text": [
      "SelectKBest(k=2)\n"
     ]
    },
    {
     "name": "stderr",
     "output_type": "stream",
     "text": [
      "C:\\Users\\eunwoo\\.conda\\envs\\Tensorflow\\lib\\site-packages\\sklearn\\feature_selection\\_univariate_selection.py:114: UserWarning: Features [  41  363 1223 1507 1510 2355 2374 2680 2685 2690 2694 2705 2722 2752\n",
      " 2757 2761 2783 2806 2828 2849 2860 2885 2895 2903 2919 2921 2923 2928\n",
      " 2929 2930 2931 2932 2937 2941 2946 2951 2956 2957 2961 2962 2967 2970\n",
      " 2972 2973 2976 2983 2990 2998 3000 3007 3009 3018 3019 3020 3021 3027\n",
      " 3036 3046 3047 3051 3057 3060 3062 3066 3073 3080 3088 3090 3097 3099\n",
      " 3108 3110 3170 3171 3185 3186 3187 3188 3195 3196 3198 3202 3214 3215\n",
      " 3216 3217 3218 3219 3221 3235 3236 3237 3238 3248 3250 3251 3252 3256\n",
      " 3260 3261 3262 3277 3278 3279 3280 3282 3283 3284 3296 3297 3298 3299\n",
      " 3300 3302 3310 3311 3312 3313 3314 3315 3316 3332 3334 3335 3336] are constant.\n",
      "  warnings.warn(\"Features %s are constant.\" % constant_features_idx,\n",
      "C:\\Users\\eunwoo\\.conda\\envs\\Tensorflow\\lib\\site-packages\\sklearn\\feature_selection\\_univariate_selection.py:116: RuntimeWarning: invalid value encountered in true_divide\n",
      "  f = msb / msw\n"
     ]
    }
   ],
   "source": [
    "import pandas as pd\n",
    "\n",
    "# ANOVA feature selection for numeric input and categorical output\n",
    "from sklearn.datasets import make_classification\n",
    "from sklearn.feature_selection import SelectKBest\n",
    "from sklearn.feature_selection import f_classif\n",
    "from sklearn.preprocessing import MinMaxScaler, StandardScaler\n",
    "\n",
    "#데이터 입력\n",
    "df = pd.read_csv('./VRK2_inhibitor_descriptor_Internal_dataset_dropunmane.csv')\n",
    "df1 = pd.read_csv('./VRK2_inhibitor_descriptor_external_dataset_dropunmane.csv')\n",
    "\n",
    "#데이터 분류\n",
    "dataset = df.values\n",
    "X = dataset[:,0:-1]\n",
    "Y = dataset[:,-1]\n",
    "\n",
    "#X 표준화\n",
    "\n",
    "scaler = StandardScaler()\n",
    "\n",
    "scaler.fit(X)\n",
    "X_scaled = scaler.transform(X)\n",
    "\n",
    "# define feature selection\n",
    "fs = SelectKBest(score_func=f_classif, k=2)\n",
    "# apply feature selection\n",
    "X_selected = fs.fit_transform(X_scaled, Y)\n",
    "print(X_selected)"
   ]
  },
  {
   "cell_type": "code",
   "execution_count": null,
   "metadata": {},
   "outputs": [],
   "source": []
  }
 ],
 "metadata": {
  "kernelspec": {
   "display_name": "Python 3",
   "language": "python",
   "name": "python3"
  },
  "language_info": {
   "codemirror_mode": {
    "name": "ipython",
    "version": 3
   },
   "file_extension": ".py",
   "mimetype": "text/x-python",
   "name": "python",
   "nbconvert_exporter": "python",
   "pygments_lexer": "ipython3",
   "version": "3.8.5"
  }
 },
 "nbformat": 4,
 "nbformat_minor": 4
}
