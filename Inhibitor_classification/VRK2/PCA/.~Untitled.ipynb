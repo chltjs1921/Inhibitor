{
 "cells": [
  {
   "cell_type": "code",
   "execution_count": 37,
   "id": "purple-fireplace",
   "metadata": {},
   "outputs": [
    {
     "name": "stdout",
     "output_type": "stream",
     "text": [
      "    principal component 1  principal component 2\n",
      "0              -66.904591               2.775958\n",
      "1               25.478311              -4.893776\n",
      "2              -22.899197               0.534970\n",
      "3              -22.234624              -0.707950\n",
      "4              -22.733015              -0.634788\n",
      "5              -26.508904              -0.196060\n",
      "6               11.198454              -3.798548\n",
      "7               12.917279               1.221961\n",
      "8              -28.262739               2.584139\n",
      "9              -36.405669               2.812353\n",
      "10             -25.777109              -0.107912\n",
      "11             -60.522468               8.918126\n",
      "12             -32.326509               1.585879\n",
      "13              66.604896             -53.597915\n",
      "14             -22.454358              -1.879043\n",
      "15             -26.139021              -0.564604\n",
      "16             -50.814449               6.918951\n",
      "17              27.669053              -3.630022\n",
      "18              43.195805              -7.366895\n",
      "19              32.670540              -8.107253\n",
      "20             -35.645914               0.433642\n",
      "21              15.757636              -3.812964\n",
      "22              -7.543872              -4.904979\n",
      "23              11.171613              -0.883971\n",
      "24              72.162214             100.439737\n",
      "25              16.566249              -1.523962\n",
      "26               9.479405              -6.630197\n",
      "27              34.435593              -6.309104\n",
      "28              10.784595               2.299239\n",
      "29              -8.565094               3.184353\n",
      "30              51.886242             -17.523774\n",
      "31              53.759650              -6.635590\n",
      "    principal component 1  principal component 2  score\n",
      "0              -66.904591               2.775958      3\n",
      "1               25.478311              -4.893776      3\n",
      "2              -22.899197               0.534970      3\n",
      "3              -22.234624              -0.707950      3\n",
      "4              -22.733015              -0.634788      3\n",
      "5              -26.508904              -0.196060      3\n",
      "6               11.198454              -3.798548      3\n",
      "7               12.917279               1.221961      3\n",
      "8              -28.262739               2.584139      3\n",
      "9              -36.405669               2.812353      3\n",
      "10             -25.777109              -0.107912      3\n",
      "11             -60.522468               8.918126      3\n",
      "12             -32.326509               1.585879      2\n",
      "13              66.604896             -53.597915      2\n",
      "14             -22.454358              -1.879043      2\n",
      "15             -26.139021              -0.564604      2\n",
      "16             -50.814449               6.918951      2\n",
      "17              27.669053              -3.630022      2\n",
      "18              43.195805              -7.366895      2\n",
      "19              32.670540              -8.107253      2\n",
      "20             -35.645914               0.433642      2\n",
      "21              15.757636              -3.812964      2\n",
      "22              -7.543872              -4.904979      1\n",
      "23              11.171613              -0.883971      1\n",
      "24              72.162214             100.439737      1\n",
      "25              16.566249              -1.523962      0\n",
      "26               9.479405              -6.630197      0\n",
      "27              34.435593              -6.309104      0\n",
      "28              10.784595               2.299239      0\n",
      "29              -8.565094               3.184353      0\n",
      "30              51.886242             -17.523774      0\n",
      "31              53.759650              -6.635590      0\n"
     ]
    },
    {
     "data": {
      "image/png": "[encoded data removed]",
      "text/plain": [
       "<Figure size 432x288 with 1 Axes>"
      ]
     },
     "metadata": {
      "needs_background": "light"
     },
     "output_type": "display_data"
    }
   ],
   "source": [
    "#출처: https://ssungkang.tistory.com/entry/%EC%9D%B8%EA%B3%B5%EC%A7%80%EB%8A%A5-PCA-2-python-%EC%9D%84-%EC%82%AC%EC%9A%A9%ED%95%9C-PCA-%EC%8B%A4%EC%8A%B5\n",
    "\n",
    "import pandas as pd\n",
    "import numpy as np\n",
    "import matplotlib.pyplot as plt\n",
    "\n",
    "from sklearn.model_selection import train_test_split\n",
    "from sklearn.preprocessing import StandardScaler\n",
    "from sklearn.decomposition import PCA\n",
    "\n",
    "#데이터 입력\n",
    "df = pd.read_csv('./VRK2_inhibitor_descriptor_dropfinal_withoutSMILES_appendclass_dropunmane.csv')\n",
    "\n",
    "#데이터 분류\n",
    "dataset = df.values\n",
    "X = dataset[:,0:3336]\n",
    "Y = dataset[:,3337]\n",
    "\n",
    "#특성을 표준화 전처리\n",
    "sc = StandardScaler()\n",
    "X_std = sc.fit_transform(X)\n",
    "\n",
    "#PCA 사용\n",
    "pca2d = PCA(n_components=2)\n",
    "principalComponents2d = pca.fit_transform(X_std)\n",
    "principalDf2d = pd.DataFrame(data = principalComponents\n",
    "             , columns = ['principal component 1', 'principal component 2'])\n",
    "print(principalDf2d)\n",
    "finalDataFrame2d = pd.concat([principalDf, df[['score']]], axis=1)\n",
    "print(finalDataFrame2d)\n",
    "\n",
    "#2차원 산점도 그리기\n",
    "\n",
    "principalDf2d.plot.scatter(x='principal component 1', y='principal component 2', s=50, c='blue', alpha=0.5)\n",
    "plt.show()\n",
    "\n",
    "#2차원 했으나 깔끔치 아니함\n",
    "\n",
    "\n"
   ]
  },
  {
   "cell_type": "code",
   "execution_count": null,
   "id": "defined-decade",
   "metadata": {},
   "outputs": [],
   "source": []
  }
 ],
 "metadata": {
  "kernelspec": {
   "display_name": "Tensorflow",
   "language": "python",
   "name": "tensorflow"
  },
  "language_info": {
   "codemirror_mode": {
    "name": "ipython",
    "version": 3
   },
   "file_extension": ".py",
   "mimetype": "text/x-python",
   "name": "python",
   "nbconvert_exporter": "python",
   "pygments_lexer": "ipython3",
   "version": "3.8.5"
  }
 },
 "nbformat": 4,
 "nbformat_minor": 5
}
